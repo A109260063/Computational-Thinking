{
  "nbformat": 4,
  "nbformat_minor": 0,
  "metadata": {
    "colab": {
      "name": "week10-2.ipynb",
      "provenance": [],
      "authorship_tag": "ABX9TyOq1qnitX4jqHfGsK6TKp81",
      "include_colab_link": true
    },
    "kernelspec": {
      "name": "python3",
      "display_name": "Python 3"
    }
  },
  "cells": [
    {
      "cell_type": "markdown",
      "metadata": {
        "id": "view-in-github",
        "colab_type": "text"
      },
      "source": [
        "<a href=\"https://colab.research.google.com/github/A109260063/Computational-Thinking/blob/master/week10_2.ipynb\" target=\"_parent\"><img src=\"https://colab.research.google.com/assets/colab-badge.svg\" alt=\"Open In Colab\"/></a>"
      ]
    },
    {
      "cell_type": "code",
      "metadata": {
        "colab": {
          "base_uri": "https://localhost:8080/"
        },
        "id": "FM9j-EhggsSS",
        "outputId": "41b024b0-d832-4f7c-e565-69c7b2f47e60"
      },
      "source": [
        "#Input Data\n",
        "time = 123\n",
        "\n",
        "#Process\n",
        "hour = time // 60 #商數\n",
        "minute = time % 60 #餘數\n",
        "\n",
        "#Output \n",
        "\n",
        "print (time,\"是\",hour,\"小時\",minute,\"分鐘\")\n",
        "\n",
        "##Process\n",
        "\n",
        "hour1 = int(time / 60) #除法與整數\n",
        "minute1 = ((time / 60) - hour1)*60\n",
        "import math\n",
        "minute1 = round(minute1)\n",
        "print(time,\"是\",hour1,\"小時\",minute1,\"分鐘\")"
      ],
      "execution_count": 2,
      "outputs": [
        {
          "output_type": "stream",
          "text": [
            "123 是 2 小時 3 分鐘\n",
            "123 是 2 小時 3 分鐘\n"
          ],
          "name": "stdout"
        }
      ]
    }
  ]
}