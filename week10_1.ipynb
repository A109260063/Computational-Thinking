{
  "nbformat": 4,
  "nbformat_minor": 0,
  "metadata": {
    "colab": {
      "name": "week10-1",
      "provenance": [],
      "authorship_tag": "ABX9TyMMgAz0HK3gHaHsE1Uh7n0z",
      "include_colab_link": true
    },
    "kernelspec": {
      "name": "python3",
      "display_name": "Python 3"
    }
  },
  "cells": [
    {
      "cell_type": "markdown",
      "metadata": {
        "id": "view-in-github",
        "colab_type": "text"
      },
      "source": [
        "<a href=\"https://colab.research.google.com/github/A109260063/Computational-Thinking/blob/master/week10_1.ipynb\" target=\"_parent\"><img src=\"https://colab.research.google.com/assets/colab-badge.svg\" alt=\"Open In Colab\"/></a>"
      ]
    },
    {
      "cell_type": "code",
      "metadata": {
        "colab": {
          "base_uri": "https://localhost:8080/"
        },
        "id": "UXaMXxEKQopY",
        "outputId": "64d5ff48-c384-490f-9dae-93691d79fdff"
      },
      "source": [
        "#寫程式是怎麼一回事\n",
        "\n",
        "##Question;[魔球]那部電影值不值得看? 老闆想了解一下那部電影的相關資訊\n",
        "\n",
        "#step1:上網找 哪裡找 找什麼 如何回覆\n",
        "##從IMBD電影資料庫找出要記錄的魔球電影相關資訊\n",
        "##網址:http;//www.imdb.com/title/tt1210166/\n",
        "##相關訊息:電影名稱 放映日期....\n",
        "#Step2:Input-Process-Output\n",
        "\n",
        "##輸入資料\n",
        "##處理資料\n",
        "##輸出資料\n",
        "\n",
        "#Step3:Coding\n",
        "\n",
        "movie_title = \"money ball\"\n",
        "release_year = \"2011\"\n",
        "print(\"電影英文名稱\",movie_title)\n",
        "print(\"上映時間\",release_year)\n",
        "\n",
        "movie_time = \"133\"\n",
        "movie_rating = \"7.6\"\n",
        "print(\"電影長度\",movie_time)\n",
        "print(\"電影評價\",movie_rating)\n",
        "\n",
        "director = \"Bennett Miller\"\n",
        "stars_1 = \"Brad Pitt\"\n",
        "stars_2 = \"Robin Wright\"\n",
        "stars_3 = \"Jonah Hill\"\n",
        "print(\"導演\",director)\n",
        "print(\"主角2\",stars_2)\n",
        "print(\"主角1\",stars_1)\n",
        "print(\"主角3\",stars_3)\n",
        "\n",
        "\n"
      ],
      "execution_count": 4,
      "outputs": [
        {
          "output_type": "stream",
          "text": [
            "電影英文名稱 money ball\n",
            "上映時間 2011\n",
            "電影長度 133\n",
            "電影評價 7.6\n",
            "導演 Bennett Miller\n",
            "主角2 Robin Wright\n",
            "主角1 Brad Pitt\n",
            "主角3 Jonah Hill\n"
          ],
          "name": "stdout"
        }
      ]
    }
  ]
}