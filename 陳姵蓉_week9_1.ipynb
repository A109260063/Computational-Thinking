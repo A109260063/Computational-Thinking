{
  "nbformat": 4,
  "nbformat_minor": 0,
  "metadata": {
    "colab": {
      "name": "陳姵蓉 week9-1",
      "provenance": [],
      "authorship_tag": "ABX9TyOq1IAF82BCVkduQXuVOcX8",
      "include_colab_link": true
    },
    "kernelspec": {
      "name": "python3",
      "display_name": "Python 3"
    }
  },
  "cells": [
    {
      "cell_type": "markdown",
      "metadata": {
        "id": "view-in-github",
        "colab_type": "text"
      },
      "source": [
        "<a href=\"https://colab.research.google.com/github/A109260063/Computational-Thinking/blob/master/%E9%99%B3%E5%A7%B5%E8%93%89_week9_1.ipynb\" target=\"_parent\"><img src=\"https://colab.research.google.com/assets/colab-badge.svg\" alt=\"Open In Colab\"/></a>"
      ]
    },
    {
      "cell_type": "code",
      "metadata": {
        "id": "QhfPN-oFZJQG",
        "outputId": "48535272-e38d-4753-e29a-9385fdc09b87",
        "colab": {
          "base_uri": "https://localhost:8080/"
        }
      },
      "source": [
        "X = 2\n",
        "Y = 5\n",
        "\n",
        "print(X + Y)\n",
        "print(X - Y)\n",
        "print(X * Y)\n",
        "print(X / Y)\n",
        "print(X // Y)\n",
        "print(X % Y)\n",
        "print(X ** Y)"
      ],
      "execution_count": 1,
      "outputs": [
        {
          "output_type": "stream",
          "text": [
            "7\n",
            "-3\n",
            "10\n",
            "0.4\n",
            "0\n",
            "2\n",
            "32\n"
          ],
          "name": "stdout"
        }
      ]
    },
    {
      "cell_type": "markdown",
      "metadata": {
        "id": "7KOKLaELZ6jw"
      },
      "source": [
        "標準輸入輸出\n",
        "input()函數\n",
        "print()函數"
      ]
    },
    {
      "cell_type": "code",
      "metadata": {
        "id": "5A5EcrPUanzs",
        "outputId": "a36e84e3-9224-4616-bb9a-b7b19d72ec3d",
        "colab": {
          "base_uri": "https://localhost:8080/",
          "height": 52
        }
      },
      "source": [
        "input()"
      ],
      "execution_count": 5,
      "outputs": [
        {
          "output_type": "stream",
          "text": [
            "3\n"
          ],
          "name": "stdout"
        },
        {
          "output_type": "execute_result",
          "data": {
            "application/vnd.google.colaboratory.intrinsic+json": {
              "type": "string"
            },
            "text/plain": [
              "'3'"
            ]
          },
          "metadata": {
            "tags": []
          },
          "execution_count": 5
        }
      ]
    },
    {
      "cell_type": "code",
      "metadata": {
        "id": "QO-wRcFqZ0ja",
        "outputId": "bb407f92-ffa7-4e87-f4f9-13c0f23d1007",
        "colab": {
          "base_uri": "https://localhost:8080/",
          "height": 52
        }
      },
      "source": [
        "input(\"請輸入數字?\")"
      ],
      "execution_count": 4,
      "outputs": [
        {
          "output_type": "stream",
          "text": [
            "請輸入數字?3\n"
          ],
          "name": "stdout"
        },
        {
          "output_type": "execute_result",
          "data": {
            "application/vnd.google.colaboratory.intrinsic+json": {
              "type": "string"
            },
            "text/plain": [
              "'3'"
            ]
          },
          "metadata": {
            "tags": []
          },
          "execution_count": 4
        }
      ]
    },
    {
      "cell_type": "code",
      "metadata": {
        "id": "hhlZgJQRat0l",
        "outputId": "2bd27e6a-92eb-4cbf-8547-b0bd218dfadd",
        "colab": {
          "base_uri": "https://localhost:8080/"
        }
      },
      "source": [
        "x = input(\"請輸入數字?\")"
      ],
      "execution_count": 6,
      "outputs": [
        {
          "output_type": "stream",
          "text": [
            "請輸入數字?3\n"
          ],
          "name": "stdout"
        }
      ]
    },
    {
      "cell_type": "code",
      "metadata": {
        "id": "JOH1amZZa-Tf",
        "outputId": "29b748e4-17b6-488e-c820-3ef7640dc1d2",
        "colab": {
          "base_uri": "https://localhost:8080/"
        }
      },
      "source": [
        "print(x)"
      ],
      "execution_count": 7,
      "outputs": [
        {
          "output_type": "stream",
          "text": [
            "3\n"
          ],
          "name": "stdout"
        }
      ]
    },
    {
      "cell_type": "code",
      "metadata": {
        "id": "1qm-LCrEbC1U",
        "outputId": "cb017ac6-4fa1-40e9-91e7-633b59a203c3",
        "colab": {
          "base_uri": "https://localhost:8080/"
        }
      },
      "source": [
        "print(x, 2, \"Python\")"
      ],
      "execution_count": 8,
      "outputs": [
        {
          "output_type": "stream",
          "text": [
            "3 2 Python\n"
          ],
          "name": "stdout"
        }
      ]
    },
    {
      "cell_type": "code",
      "metadata": {
        "id": "q3iAKPVub43e",
        "outputId": "1274f2bf-e9e4-4eb0-adb5-89b97fea5068",
        "colab": {
          "base_uri": "https://localhost:8080/"
        }
      },
      "source": [
        "x = input(\"請輸入上衣的數量?\")"
      ],
      "execution_count": 9,
      "outputs": [
        {
          "output_type": "stream",
          "text": [
            "請輸入上衣的數量?5\n"
          ],
          "name": "stdout"
        }
      ]
    },
    {
      "cell_type": "code",
      "metadata": {
        "id": "Ngkx8HoLeOv0"
      },
      "source": [
        "x = int(x)"
      ],
      "execution_count": 10,
      "outputs": []
    },
    {
      "cell_type": "code",
      "metadata": {
        "id": "Cb2P54AMeV8z"
      },
      "source": [
        "Total = 300 * x"
      ],
      "execution_count": 11,
      "outputs": []
    },
    {
      "cell_type": "code",
      "metadata": {
        "id": "kMLyTT5teeUD",
        "outputId": "e7624179-01f2-42af-ea12-7af05eeed9c8",
        "colab": {
          "base_uri": "https://localhost:8080/"
        }
      },
      "source": [
        "print(Total)"
      ],
      "execution_count": 12,
      "outputs": [
        {
          "output_type": "stream",
          "text": [
            "1500\n"
          ],
          "name": "stdout"
        }
      ]
    },
    {
      "cell_type": "code",
      "metadata": {
        "id": "1dDFft88ellx",
        "outputId": "3d78384c-d2fa-491e-bfbf-e67380772608",
        "colab": {
          "base_uri": "https://localhost:8080/"
        }
      },
      "source": [
        "X = int(input(\"請輸入上衣的數量?\"))\n",
        "Y = int(input(\"請輸入褲子的數量?\"))\n",
        "Z = int(input(\"請輸入背心的數量?\"))\n",
        "\n",
        "Total = 300*X + 350*Y + 400*Z\n",
        "\n",
        "print(\"訂購服裝的總金額為\",Total)"
      ],
      "execution_count": 14,
      "outputs": [
        {
          "output_type": "stream",
          "text": [
            "請輸入上衣的數量?5\n",
            "請輸入褲子的數量?5\n",
            "請輸入背心的數量?5\n",
            "訂購服裝的總金額為 5250\n"
          ],
          "name": "stdout"
        }
      ]
    },
    {
      "cell_type": "code",
      "metadata": {
        "id": "dbhzkoOhf3mJ",
        "outputId": "6564ad71-2ab9-4b7f-f909-acb6d1d76229",
        "colab": {
          "base_uri": "https://localhost:8080/"
        }
      },
      "source": [
        "Cans = int(input(\"請輸入購買的飲料罐數?\"))\n",
        "Total = (Cans//12)*200 + (Cans%12)*20\n",
        "print(\"需花費\",Total)"
      ],
      "execution_count": 15,
      "outputs": [
        {
          "output_type": "stream",
          "text": [
            "請輸入購買的飲料罐數?30\n",
            "需花費 520\n"
          ],
          "name": "stdout"
        }
      ]
    },
    {
      "cell_type": "code",
      "metadata": {
        "id": "F80FQZONiCv7",
        "outputId": "b6cfc20e-3ef1-4a97-93a5-f02e02a3b9d8",
        "colab": {
          "base_uri": "https://localhost:8080/"
        }
      },
      "source": [
        "first = int(input(\"請輸入第一次期中考成績?\"))\n",
        "second = int(input(\"請輸入第二次期中考成績?\"))\n",
        "final = int(input(\"請輸入期末考成績?\"))\n",
        "total = first + second + final\n",
        "average = total / 3\n",
        "print(\"總分為\", total, \"平均為\", average)\n"
      ],
      "execution_count": 16,
      "outputs": [
        {
          "output_type": "stream",
          "text": [
            "請輸入第一次期中考成績?75\n",
            "請輸入第二次期中考成績?80\n",
            "請輸入期末考成績?65\n",
            "總分為 220 平均為 73.33333333333333\n"
          ],
          "name": "stdout"
        }
      ]
    }
  ]
}