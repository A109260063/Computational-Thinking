{
  "nbformat": 4,
  "nbformat_minor": 0,
  "metadata": {
    "colab": {
      "name": "機器人作業.ipynb",
      "provenance": [],
      "authorship_tag": "ABX9TyNpqIR5Sl5OhZCeWL6mDqcQ",
      "include_colab_link": true
    },
    "kernelspec": {
      "name": "python3",
      "display_name": "Python 3"
    }
  },
  "cells": [
    {
      "cell_type": "markdown",
      "metadata": {
        "id": "view-in-github",
        "colab_type": "text"
      },
      "source": [
        "<a href=\"https://colab.research.google.com/github/A109260063/Computational-Thinking/blob/master/%E6%A9%9F%E5%99%A8%E4%BA%BA%E4%BD%9C%E6%A5%AD.ipynb\" target=\"_parent\"><img src=\"https://colab.research.google.com/assets/colab-badge.svg\" alt=\"Open In Colab\"/></a>"
      ]
    },
    {
      "cell_type": "code",
      "metadata": {
        "colab": {
          "base_uri": "https://localhost:8080/"
        },
        "id": "09UvoFbw2LlI",
        "outputId": "587be332-6f2c-4612-ba8d-1789fcec3448"
      },
      "source": [
        "#午餐話題\r\n",
        "print(\"12點了!該去吃午餐了\")\r\n",
        "Lunch = input(\"你有什麼想法嗎?:\")\r\n",
        "print(\"我剛好也想吃\",Lunch)\r\n",
        "A = input(\"但我們等等一點要上課,你覺得這樣會不會太趕?\")\r\n",
        "\r\n",
        "if A == \"不會\" :\r\n",
        "  print(\"那我們走吧!\")\r\n",
        "if A == \"會\" :\r\n",
        "  print(\"那我們改吃學餐\")\r\n",
        "\r\n",
        "  \r\n",
        "  B = input(\"你覺得怎樣?\")\r\n",
        "  if B == \"好\" :\r\n",
        "    print(\"那趕快走吧\")\r\n",
        "  if B == \"不好\" :\r\n",
        "    print(\"那我們就去吃7-11吧\")\r\n",
        "\r\n",
        "  \r\n",
        "\r\n",
        "\r\n",
        "\r\n"
      ],
      "execution_count": 18,
      "outputs": [
        {
          "output_type": "stream",
          "text": [
            "12點了!該去吃午餐了\n",
            "你有什麼想法嗎?:436\n",
            "我剛好也想吃 436\n",
            "但我們等等一點要上課,你覺得這樣會不會太趕?會\n",
            "那我們改吃學餐\n",
            "你覺得怎樣?不好\n",
            "那我們就去吃7-11吧\n"
          ],
          "name": "stdout"
        }
      ]
    }
  ]
}