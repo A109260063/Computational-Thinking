{
  "nbformat": 4,
  "nbformat_minor": 0,
  "metadata": {
    "colab": {
      "name": "week12.ipynb",
      "provenance": [],
      "authorship_tag": "ABX9TyMG4Z92E65J9R1GelrEPUTH",
      "include_colab_link": true
    },
    "kernelspec": {
      "name": "python3",
      "display_name": "Python 3"
    }
  },
  "cells": [
    {
      "cell_type": "markdown",
      "metadata": {
        "id": "view-in-github",
        "colab_type": "text"
      },
      "source": [
        "<a href=\"https://colab.research.google.com/github/A109260063/Computational-Thinking/blob/master/week12.ipynb\" target=\"_parent\"><img src=\"https://colab.research.google.com/assets/colab-badge.svg\" alt=\"Open In Colab\"/></a>"
      ]
    },
    {
      "cell_type": "code",
      "metadata": {
        "colab": {
          "base_uri": "https://localhost:8080/"
        },
        "id": "FhfM3ohFcfIJ",
        "outputId": "ac2df19f-d945-471b-aa92-31a73cd3f596"
      },
      "source": [
        "shopping_list = ['衣服', '褲子', '襪子', '鞋子', '帽子']\n",
        " print(shopping_list)\n"
      ],
      "execution_count": 3,
      "outputs": [
        {
          "output_type": "stream",
          "text": [
            "['衣服', '褲子', '襪子', '鞋子', '帽子']\n"
          ],
          "name": "stdout"
        }
      ]
    },
    {
      "cell_type": "code",
      "metadata": {
        "colab": {
          "base_uri": "https://localhost:8080/"
        },
        "id": "r99qE2z7gIql",
        "outputId": "ef00fd65-d976-42e7-915a-0de987676213"
      },
      "source": [
        "# 串列項目\n",
        ">>> list5 = ['牛奶', '蛋', '咖啡豆', '西瓜', '鳳梨']\n",
        ">>> print(list5)\n",
        "\n",
        "## 索引\n",
        ">>> print(list5[0]) \n",
        "## 變更\n",
        ">>> list5[1] = '皮蛋'\n",
        ">>> print(list5)\n",
        "\n",
        "## 切片\n",
        ">>> print(list5[1:3])\n"
      ],
      "execution_count": 4,
      "outputs": [
        {
          "output_type": "stream",
          "text": [
            "['牛奶', '蛋', '咖啡豆', '西瓜', '鳳梨']\n",
            "牛奶\n",
            "['牛奶', '皮蛋', '咖啡豆', '西瓜', '鳳梨']\n",
            "['皮蛋', '咖啡豆']\n"
          ],
          "name": "stdout"
        }
      ]
    },
    {
      "cell_type": "code",
      "metadata": {
        "colab": {
          "base_uri": "https://localhost:8080/"
        },
        "id": "Yz7s9HpMgYfe",
        "outputId": "d83675f9-6660-49b4-b060-876d55491cf7"
      },
      "source": [
        "#籃球隊冠軍資訊\n",
        "season = \"1995-1996\"\n",
        "team = \"Chicago Bulls\"\n",
        "coach = \"Phil Jackson\"\n",
        "records = [72, 10]\n",
        "starting = [\"Ron Harper\", \"Michael Jordan\", \"Scottie Pippen\", \"Dennis Rodman\", \"Luc Longley\"]\n",
        "champion = True\n",
        "\n",
        "# 變數best_NBA 賦值串列\n",
        "best_NBA = list((season, team, coach, records, starting, champion))\n",
        "# TypeError: list expected at most 1 arguments, got 6 \n",
        "print(best_NBA)\n",
        "\n",
        "print(type(best_NBA))\n",
        "\n",
        "# indexing 索引\n",
        "print(best_NBA[-2])\n",
        "\n",
        "# slicing 切片\n",
        "print(best_NBA[1:4])\n",
        "\n",
        "#球季\n",
        "print(season)\n",
        "#隊名\n",
        "print(team)\n",
        "#總教練\n",
        "print(coach)"
      ],
      "execution_count": 8,
      "outputs": [
        {
          "output_type": "stream",
          "text": [
            "['1995-1996', 'Chicago Bulls', 'Phil Jackson', [72, 10], ['Ron Harper', 'Michael Jordan', 'Scottie Pippen', 'Dennis Rodman', 'Luc Longley'], True]\n",
            "<class 'list'>\n",
            "['Ron Harper', 'Michael Jordan', 'Scottie Pippen', 'Dennis Rodman', 'Luc Longley']\n",
            "['Chicago Bulls', 'Phil Jackson', [72, 10]]\n",
            "1995-1996\n",
            "Chicago Bulls\n",
            "Phil Jackson\n"
          ],
          "name": "stdout"
        }
      ]
    },
    {
      "cell_type": "code",
      "metadata": {
        "colab": {
          "base_uri": "https://localhost:8080/"
        },
        "id": "1Mx4PIMYuCPn",
        "outputId": "28cf4e6a-ebbc-42d1-8e4d-d342eddd176d"
      },
      "source": [
        "# [0,1,2,3,4]\n",
        "a = range(5) # range(0,5,1)\n",
        "print(a)\n",
        "range(0, 5)\n",
        "print(a[0], a[1], a[2], a[3], a[4])\n",
        "\n",
        "# [2,3,4,5]\n",
        "b = range(2, 6) #range(2,6,1)\n",
        "print(b[0], b[1], b[2], b[3])\n",
        "\n",
        "# [2,5,8]\n",
        "c = range(2, 10, 3)\n",
        "\n",
        "# [10,8,6,4]\n",
        "d = range(10, 3, -2)\n",
        "print(d[0], d[1], d[2], d[3])\n"
      ],
      "execution_count": 10,
      "outputs": [
        {
          "output_type": "stream",
          "text": [
            "range(0, 5)\n",
            "0 1 2 3 4\n",
            "2 3 4 5\n",
            "10 8 6 4\n"
          ],
          "name": "stdout"
        }
      ]
    },
    {
      "cell_type": "code",
      "metadata": {
        "id": "N4ZYeG45uNtI"
      },
      "source": [
        "#分組作業\n",
        "project_title = '今天要吃甚麼?'\n",
        "name_list = ['莊芷俞','林諭辰','陳瑾琦','陳姵蓉','劉宏望','邱柏睿','王冠仁']\n",
        "number_list = ['A109260009','A109260041','A109260051','A109260063','A109260065','A109260047','A109260075']\n",
        "dust_list = ['查資料','報告','做簡報','排版','查資料','報告','做簡報']\n",
        "load_list = ['10','10','10','10','10','10','10']\n",
        "\n",
        "#組長 = 莊芷俞\n"
      ],
      "execution_count": 19,
      "outputs": []
    }
  ]
}