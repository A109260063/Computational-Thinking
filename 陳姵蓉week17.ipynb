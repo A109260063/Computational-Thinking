{
  "nbformat": 4,
  "nbformat_minor": 0,
  "metadata": {
    "colab": {
      "name": "陳姵蓉week17.ipynb",
      "provenance": [],
      "authorship_tag": "ABX9TyOiZnEXqYur2aodymhBwK4o",
      "include_colab_link": true
    },
    "kernelspec": {
      "name": "python3",
      "display_name": "Python 3"
    }
  },
  "cells": [
    {
      "cell_type": "markdown",
      "metadata": {
        "id": "view-in-github",
        "colab_type": "text"
      },
      "source": [
        "<a href=\"https://colab.research.google.com/github/A109260063/Computational-Thinking/blob/master/%E9%99%B3%E5%A7%B5%E8%93%89week17.ipynb\" target=\"_parent\"><img src=\"https://colab.research.google.com/assets/colab-badge.svg\" alt=\"Open In Colab\"/></a>"
      ]
    },
    {
      "cell_type": "code",
      "metadata": {
        "id": "4gXZBFwdpf1D"
      },
      "source": [
        "#判斷奇偶數\r\n",
        "\r\n",
        "## Input:give me a number\r\n",
        "# number = 25\r\n",
        "\r\n",
        "number = input(\"Give me a number:\")\r\n",
        "number = int (number)\r\n",
        "\r\n",
        "##Process:Odds - num/2 ...1 Even num/2 - - -0\r\n",
        "\r\n",
        "condition = number%2\r\n",
        "if condition == 0:\r\n",
        "  print(\"This number is an even number\")\r\n",
        "else:\r\n",
        "  print(\"This number is an odd number\")\r\n",
        "\r\n",
        "##Output : print"
      ],
      "execution_count": null,
      "outputs": []
    },
    {
      "cell_type": "code",
      "metadata": {
        "colab": {
          "base_uri": "https://localhost:8080/"
        },
        "id": "tFN4WJnlrpnr",
        "outputId": "cefec7c4-b490-4517-ff16-23e4af8a500f"
      },
      "source": [
        "year = int(input('請輸入年份?'))\r\n",
        "if ((year % 400) == 0):\r\n",
        "  print(year, \"是閏年\")\r\n",
        "elif ((year % 100) == 0):\r\n",
        "  print(year, \"不是閏年\")\r\n",
        "elif ((year % 4) == 0):\r\n",
        "  print(year, \"是閏年\")\r\n",
        "else:\r\n",
        "  print(year, \"不是閏年\")"
      ],
      "execution_count": 2,
      "outputs": [
        {
          "output_type": "stream",
          "text": [
            "請輸入年份?2002\n",
            "2002 不是閏年\n"
          ],
          "name": "stdout"
        }
      ]
    },
    {
      "cell_type": "code",
      "metadata": {
        "colab": {
          "base_uri": "https://localhost:8080/"
        },
        "id": "k0uLPNbku7Mb",
        "outputId": "9093cfd9-b02c-4468-d8a2-1bb80367dcfb"
      },
      "source": [
        "# 方法(一):單向選擇\r\n",
        "score = int(input('請輸入一個成績?'))\r\n",
        "if score >= 80:\r\n",
        "  print('非常好')\r\n",
        "if 80 > score >= 60: #前面要有80>才行\r\n",
        "  print('不錯喔')\r\n",
        "if score < 60:\r\n",
        "  print('要加油')\r\n",
        "\r\n",
        "# 方法(二):多向選擇\r\n",
        "score = int(input('請輸入一個成績?'))\r\n",
        "if score >= 80:\r\n",
        "  print('非常好')\r\n",
        "elif score >= 60:\r\n",
        "  print('不錯喔')\r\n",
        "else:\r\n",
        "  print('要加油')\r\n",
        "\r\n",
        "# 方法(三):雙向選擇+巢狀選擇\r\n",
        "score = int(input('請輸入一個成績?'))\r\n",
        "if score >= 80:\r\n",
        "  print('非常好')\r\n",
        "else:\r\n",
        "  if score >= 60:\r\n",
        "    print('不錯喔')\r\n",
        "  else:\r\n",
        "    print('要加油')"
      ],
      "execution_count": 4,
      "outputs": [
        {
          "output_type": "stream",
          "text": [
            "請輸入一個成績?20\n",
            "要加油\n",
            "請輸入一個成績?100\n",
            "非常好\n",
            "請輸入一個成績?30\n",
            "要加油\n"
          ],
          "name": "stdout"
        }
      ]
    }
  ]
}