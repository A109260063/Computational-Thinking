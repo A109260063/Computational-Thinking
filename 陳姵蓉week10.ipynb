{
  "nbformat": 4,
  "nbformat_minor": 0,
  "metadata": {
    "colab": {
      "name": "陳姵蓉week10.ipynb",
      "provenance": [],
      "authorship_tag": "ABX9TyNAGhvqCVKpBLaf9XQea19P",
      "include_colab_link": true
    },
    "kernelspec": {
      "name": "python3",
      "display_name": "Python 3"
    }
  },
  "cells": [
    {
      "cell_type": "markdown",
      "metadata": {
        "id": "view-in-github",
        "colab_type": "text"
      },
      "source": [
        "<a href=\"https://colab.research.google.com/github/A109260063/Computational-Thinking/blob/master/%E9%99%B3%E5%A7%B5%E8%93%89week10.ipynb\" target=\"_parent\"><img src=\"https://colab.research.google.com/assets/colab-badge.svg\" alt=\"Open In Colab\"/></a>"
      ]
    },
    {
      "cell_type": "markdown",
      "metadata": {
        "id": "B0GZe48vaduO"
      },
      "source": [
        "分組"
      ]
    },
    {
      "cell_type": "code",
      "metadata": {
        "colab": {
          "base_uri": "https://localhost:8080/"
        },
        "id": "b9ymOb1VagT8",
        "outputId": "b0b808ee-a225-4629-be06-2867f56eed28"
      },
      "source": [
        "seat = input('請輸入你的座號')\n",
        "seat = int(seat)\n",
        "\n",
        "group = (seat - 1) // 5 + 1\n",
        "\n",
        "print(\"組別是\",group)"
      ],
      "execution_count": 2,
      "outputs": [
        {
          "output_type": "stream",
          "text": [
            "請輸入你的座號5\n",
            "組別是 1\n"
          ],
          "name": "stdout"
        }
      ]
    }
  ]
}