{
  "nbformat": 4,
  "nbformat_minor": 0,
  "metadata": {
    "colab": {
      "name": "week13 回家作業.ipynb",
      "provenance": [],
      "authorship_tag": "ABX9TyNMcnfLSfQjmF08R2Z+rgl/",
      "include_colab_link": true
    },
    "kernelspec": {
      "name": "python3",
      "display_name": "Python 3"
    }
  },
  "cells": [
    {
      "cell_type": "markdown",
      "metadata": {
        "id": "view-in-github",
        "colab_type": "text"
      },
      "source": [
        "<a href=\"https://colab.research.google.com/github/A109260063/Computational-Thinking/blob/master/week13_%E5%9B%9E%E5%AE%B6%E4%BD%9C%E6%A5%AD.ipynb\" target=\"_parent\"><img src=\"https://colab.research.google.com/assets/colab-badge.svg\" alt=\"Open In Colab\"/></a>"
      ]
    },
    {
      "cell_type": "code",
      "metadata": {
        "id": "NpZp_Nwd0L2j"
      },
      "source": [
        "#回家作業\r\n",
        "sum = 0\r\n",
        "n = int(input('請輸入終值?'))\r\n",
        "for i in range(1,n+1):\r\n",
        "  sum = sum + i*i\r\n",
        "print('i為', i, '時,平方和結果為', sum)"
      ],
      "execution_count": null,
      "outputs": []
    }
  ]
}