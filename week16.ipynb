{
  "nbformat": 4,
  "nbformat_minor": 0,
  "metadata": {
    "colab": {
      "name": "week16.ipynb",
      "provenance": [],
      "authorship_tag": "ABX9TyN1jFacazKf/rZFoQPSk5Ag",
      "include_colab_link": true
    },
    "kernelspec": {
      "name": "python3",
      "display_name": "Python 3"
    }
  },
  "cells": [
    {
      "cell_type": "markdown",
      "metadata": {
        "id": "view-in-github",
        "colab_type": "text"
      },
      "source": [
        "<a href=\"https://colab.research.google.com/github/A109260063/Computational-Thinking/blob/master/week16.ipynb\" target=\"_parent\"><img src=\"https://colab.research.google.com/assets/colab-badge.svg\" alt=\"Open In Colab\"/></a>"
      ]
    },
    {
      "cell_type": "code",
      "metadata": {
        "colab": {
          "base_uri": "https://localhost:8080/"
        },
        "id": "Lc44nuaxqmy9",
        "outputId": "9cc4918a-d26a-46da-ea08-64a72e34a1db"
      },
      "source": [
        "# 邏輯運算子有三種運算子:且(and)、或(or)、非(not)。\r\n",
        "print(True and False) # 判斷 True 與 False 的交集\r\n",
        "print(True and True)\r\n",
        "print(False and False)\r\n",
        "print(False and True)\r\n",
        "print(True or False) # 判斷 True 與 False 的聯集\r\n",
        "print(True or True)\r\n",
        "print(False or False)\r\n",
        "print(False or True)\r\n",
        "print(not True) # False\r\n",
        "print(not False) # True\r\n",
        "print(not(8 > 7)) # 反轉 8 是否大於 7 的判斷"
      ],
      "execution_count": 1,
      "outputs": [
        {
          "output_type": "stream",
          "text": [
            "False\n",
            "True\n",
            "False\n",
            "False\n",
            "True\n",
            "True\n",
            "False\n",
            "True\n",
            "False\n",
            "True\n",
            "False\n"
          ],
          "name": "stdout"
        }
      ]
    }
  ]
}