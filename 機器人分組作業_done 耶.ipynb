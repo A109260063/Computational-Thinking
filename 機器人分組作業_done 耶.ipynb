{
  "nbformat": 4,
  "nbformat_minor": 0,
  "metadata": {
    "colab": {
      "name": "機器人分組作業  done.ipynb",
      "provenance": [],
      "collapsed_sections": [],
      "authorship_tag": "ABX9TyP2D+hmWLXPwiWxSjbz11oP",
      "include_colab_link": true
    },
    "kernelspec": {
      "name": "python3",
      "display_name": "Python 3"
    }
  },
  "cells": [
    {
      "cell_type": "markdown",
      "metadata": {
        "id": "view-in-github",
        "colab_type": "text"
      },
      "source": [
        "<a href=\"https://colab.research.google.com/github/A109260063/Computational-Thinking/blob/master/%E6%A9%9F%E5%99%A8%E4%BA%BA%E5%88%86%E7%B5%84%E4%BD%9C%E6%A5%AD_done%20%E8%80%B6.ipynb\" target=\"_parent\"><img src=\"https://colab.research.google.com/assets/colab-badge.svg\" alt=\"Open In Colab\"/></a>"
      ]
    },
    {
      "cell_type": "code",
      "metadata": {
        "id": "FCE5heuCyZbu"
      },
      "source": [
        "#組員名單及分工\n",
        "name_list = [\"陳瑾琦\",\"陳姵蓉\",\"林諭辰\",\"莊芷俞\",\"邱柏睿\",\"劉宏望\",\"王冠仁\"]\n",
        "number_list = [\"A109260051\",\"A109260063\",\"A109260041\",\"A109260009\",\"A109260047\",\"A109260065\",\"A109260075\"]\n",
        "duty_list = [\"晚餐吃甚麼\",\"午餐吃甚麼\",\"早餐吃甚麼\",\"心情如何\",\"自我介紹\",\"結束對話\",\"興趣\"]\n",
        "load_list = [\"10\",\"10\",\"10\",\"10\",\"10\",\"10\",\"10\"]"
      ],
      "execution_count": null,
      "outputs": []
    },
    {
      "cell_type": "code",
      "metadata": {
        "id": "kRGg_nWUyZLd",
        "colab": {
          "base_uri": "https://localhost:8080/"
        },
        "outputId": "55092aaf-dde1-461f-f0a9-e8e7d6ea94a1"
      },
      "source": [
        "#自我介紹\n",
        "print(\"大家好，我叫osn\")\n",
        "print(\"我今年18歲，我的身高159cm、體重50kg、個性是樂於助人，幫助有困難的同學，然後我平常的興趣是看電影\")\n",
        "ans=input(\"那你猜我今年幾歲呢?\")\n",
        "if ans==\"18\":\n",
        "  print(\"真厲害你怎麼知道的\")\n",
        "else:\n",
        "  print(\"猜錯了不過沒關係 我的年齡其實是18歲\")\n",
        "ans=input(\"那你今年屬蛇嗎?(對/不對)\")\n",
        "if ans==\"對\":\n",
        "  print(\"那麼剛好!我也是屬蛇诶\")\n",
        "else:\n",
        "  ans=input(\"如果不是蛇那你是屬龍嗎?\")  \n",
        "  if ans==\"是\":\n",
        "   print(\"喔原來如此!\")\n",
        "  else:\n",
        "    print(\"真傷腦筋我又猜錯了哈哈哈\")\n",
        "print(\"很高興認識你，祝你有個美好的一天\")"
      ],
      "execution_count": 1,
      "outputs": [
        {
          "output_type": "stream",
          "text": [
            "大家好，我叫osn\n",
            "我今年18歲，我的身高159cm、體重50kg、個性是樂於助人，幫助有困難的同學，然後我平常的興趣是看電影\n",
            "那你猜我今年幾歲呢?7\n",
            "猜錯了不過沒關係 我的年齡其實是18歲\n",
            "那你今年屬蛇嗎?(對/不對)ioji\n",
            "如果不是蛇那你是屬龍嗎?kkn\n",
            "真傷腦筋我又猜錯了哈哈哈\n",
            "很高興認識你，祝你有個美好的一天\n"
          ],
          "name": "stdout"
        }
      ]
    },
    {
      "cell_type": "code",
      "metadata": {
        "colab": {
          "base_uri": "https://localhost:8080/"
        },
        "id": "0zqCZh3dyY6q",
        "outputId": "baf47773-35e8-4370-e2bf-323fa3a75104"
      },
      "source": [
        "#興趣\n",
        "print(\"Hello.I am JARVIS. I am a chatbot\")\n",
        "print(\"I like animal and I love to talk about movie\")\n",
        "name=input(\"What is your name?\")\n",
        "print(\"Hello\",name,\",nice to meet you\")\n",
        "print(\"I love Robert Downey Jr. and I also like MARVEL series movie\")\n",
        "movie=input(\"How about you? What is your favorite MARVEL's movie? \")\n",
        "print(\"I like\", movie, \"too.\")\n",
        "question=\"Have you ever seen The Judge?\"\n",
        "everseen=input(question)\n",
        "print(\"Interesting. Robert Downey Jr. has perfect act in that movie. Maybe we should go to the movies tomorrow as well!\")"
      ],
      "execution_count": null,
      "outputs": [
        {
          "output_type": "stream",
          "text": [
            "Hello.I am JARVIS. I am a chatbot\n",
            "I like animal and I love to talk about movie\n"
          ],
          "name": "stdout"
        }
      ]
    },
    {
      "cell_type": "code",
      "metadata": {
        "colab": {
          "base_uri": "https://localhost:8080/"
        },
        "id": "GwxVG9ADy_zC",
        "outputId": "320a5b5e-22e8-42fa-a5e0-0898dcc15c43"
      },
      "source": [
        "#心情如何\n",
        "feeling = input(\"你今天心情好嗎?\")\n",
        "if feeling  == \"心情好\" :\n",
        "  print(\"希望你繼續保持喔\")\n",
        "if feeling == \"心情不好\" :\n",
        "  print(\"沒關係,不好的盡頭就是好的開始\") \n",
        "\n",
        "A = input(\"那可以和我分享為什麼嗎?\")\n",
        "print(\"我了解了,祝您有愉快的一天\")"
      ],
      "execution_count": null,
      "outputs": [
        {
          "output_type": "stream",
          "text": [
            "你今天心情好嗎?好\n",
            "那可以和我分享為什麼嗎?ㄕㄠ\n",
            "我了解了,祝您有愉快的一天\n"
          ],
          "name": "stdout"
        }
      ]
    },
    {
      "cell_type": "code",
      "metadata": {
        "colab": {
          "base_uri": "https://localhost:8080/"
        },
        "id": "LGBRD85AxYlY",
        "outputId": "647bee43-9089-42bd-d662-c95d01f900cd"
      },
      "source": [
        "#早餐話題\n",
        "time = input(\"現在幾點了?我好餓喔!\")\n",
        "time = input(\"請問一下我們幾點要去吃早餐呢\")\n",
        "print(\"時間快到了，我們趕快去吃早餐吧!\")\n",
        "print(\"好!我們去吃早餐囉!\")\n",
        "\n",
        "where = input(\"那我們那現在要去哪裡吃飯?\")\n",
        "print(\"哇!好啊好啊，我們好久沒去那裡吃飯!\")\n",
        "lesson = input(\"不過我們今天有要上什麼課嗎?這樣會不會遲到啊?\")\n",
        "print(\"放心吧!我們下午一點才要上課呢!\")"
      ],
      "execution_count": null,
      "outputs": [
        {
          "output_type": "stream",
          "text": [
            "現在幾點了?我好餓喔!8\n",
            "請問一下我們幾點要去吃早餐呢9\n",
            "時間快到了，我們趕快去吃早餐吧!\n",
            "好!我們去吃早餐囉!\n",
            "那我們那現在要去哪裡吃飯?ghg\n",
            "哇!好啊好啊，我們好久沒去那裡吃飯!\n",
            "不過我們今天有要上什麼課嗎?這樣會不會遲到啊?ghjb\n",
            "放心吧!我們下午一點才要上課呢!\n"
          ],
          "name": "stdout"
        }
      ]
    },
    {
      "cell_type": "code",
      "metadata": {
        "colab": {
          "base_uri": "https://localhost:8080/"
        },
        "id": "09UvoFbw2LlI",
        "outputId": "587be332-6f2c-4612-ba8d-1789fcec3448"
      },
      "source": [
        "#午餐話題\r\n",
        "print(\"12點了!該去吃午餐了\")\r\n",
        "Lunch = input(\"你有什麼想法嗎?:\")\r\n",
        "print(\"我剛好也想吃\",Lunch)\r\n",
        "A = input(\"但我們等等一點要上課,你覺得這樣會不會太趕?\")\r\n",
        "\r\n",
        "if A == \"不會\" :\r\n",
        "  print(\"那我們走吧!\")\r\n",
        "if A == \"會\" :\r\n",
        "  print(\"那我們改吃學餐\")\r\n",
        "\r\n",
        "  \r\n",
        "  B = input(\"你覺得怎樣?\")\r\n",
        "  if B == \"好\" :\r\n",
        "    print(\"那趕快走吧\")\r\n",
        "  if B == \"不好\" :\r\n",
        "    print(\"那我們就去吃7-11吧\")\r\n",
        "\r\n",
        "  \r\n",
        "\r\n",
        "\r\n",
        "\r\n"
      ],
      "execution_count": null,
      "outputs": [
        {
          "output_type": "stream",
          "text": [
            "12點了!該去吃午餐了\n",
            "你有什麼想法嗎?:436\n",
            "我剛好也想吃 436\n",
            "但我們等等一點要上課,你覺得這樣會不會太趕?會\n",
            "那我們改吃學餐\n",
            "你覺得怎樣?不好\n",
            "那我們就去吃7-11吧\n"
          ],
          "name": "stdout"
        }
      ]
    },
    {
      "cell_type": "code",
      "metadata": {
        "id": "v1TOA_kVxxAx"
      },
      "source": [
        "#晚餐話題\n",
        "dinner = input(\"你們今天晚上想要吃甚麼?麵類?飯類?火鍋?\")\n",
        "print(\"剛好我今天也想吃\",dinner)\n",
        "\n",
        "place = input(\"要在這附近吃還是去遠一點的地方吃?\")\n",
        "print(\"那我們去\",place,\"的地方吃晚餐\")\n",
        "\n",
        "store = input(\"那你們想吃哪一間店?\")\n",
        "print(\"好啊那我們去\",store,\"吃晚餐\")\n",
        "\n",
        "Sally = int(input(\"瑾琦吃的金額為\"))\n",
        "Penny = int(input(\"姵蓉吃的金額為\"))\n",
        "Kelly = int(input(\"諭辰吃的金額為\"))\n",
        "Nemo = int(input(\"芷俞吃的金額為\"))\n",
        "David = int(input(\"柏睿吃的金額為\"))\n",
        "Johnson = int(input(\"宏望吃的金額為\"))\n",
        "Stark = int(input(\"冠仁吃的金額為\"))\n",
        "\n",
        "import math\n",
        "total = Sally + Penny + Kelly + Nemo + David + Johnson + Stark\n",
        "\n",
        "print(\"好,這樣我們今天晚餐吃的總金額為\",total)"
      ],
      "execution_count": null,
      "outputs": []
    },
    {
      "cell_type": "code",
      "metadata": {
        "colab": {
          "base_uri": "https://localhost:8080/"
        },
        "id": "3z7Oez2ByPNl",
        "outputId": "6ecb6788-a7bf-4634-a7cf-a441f245dade"
      },
      "source": [
        "#結束對話\n",
        "print(\"今天過得好快\")\n",
        "ans = input (\"吃了一整天要不要去散步一下?(好/不好)\")\n",
        "if ans== \"好\":\n",
        "  a =input (\"那你要去哪呢?(公園/學校)\")\n",
        "  if a == \"公園\":\n",
        "    print(\"我知道附近有一個很大的公園\")\n",
        "    print(\"裡面還有盪鞦韆\")\n",
        "    print(\"那我們就散步完再回家吧\")\n",
        "  if a== \"學校\":\n",
        "    print(\"那我們去操場吧\")\n",
        "    print(\"還可以看球隊練球\")\n",
        "if ans==\"不好\":\n",
        "  print(\"那我們回家吧,明天見\")"
      ],
      "execution_count": null,
      "outputs": [
        {
          "output_type": "stream",
          "text": [
            "今天過得好快\n",
            "吃了一整天要不要去散步一下?(好/不好)好\n",
            "那你要去哪呢?(公園/學校)公園\n",
            "我知道附近有一個很大的公園\n",
            "裡面還有盪鞦韆\n",
            "那我們就散步完再回家吧\n"
          ],
          "name": "stdout"
        }
      ]
    }
  ]
}